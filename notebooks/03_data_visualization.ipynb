{
 "cells": [
  {
   "cell_type": "markdown",
   "metadata": {},
   "source": [
    "# 03 Data Visualization\n",
    "\n",
    "## Introduction\n",
    "\n",
    "This notebook focuses on the **data visualization** phase of the Traffic Accident Analysis project. The purpose of this step is to explore accident patterns through charts and geospatial maps, providing insights that are not immediately visible in raw tables.  \n",
    "\n",
    "During this phase, I will:  \n",
    "- Visualize the distribution of accident severity and location.  \n",
    "- Identify regional accident hotspots using geospatial heatmaps.  \n",
    "- Explore temporal patterns and relationships between variables.  \n",
    "- Incorporate interactive filters (e.g., by severity, state, and date range) to allow dynamic exploration of the data.  \n",
    "\n",
    "By the end of this notebook, I will have a clearer understanding of accident trends across geography and time. These insights will serve as a foundation for building predictive models in Notebook 4.\n"
   ]
  },
  {
   "cell_type": "markdown",
   "metadata": {},
   "source": [
    "## Step 1(a): Load and Inspect Data\n",
    "\n",
    "Here I load the cleaned dataset and perform basic checks to confirm it was imported correctly.  \n",
    "This includes viewing the shape, column names, and the first few rows."
   ]
  },
  {
   "cell_type": "code",
   "execution_count": null,
   "metadata": {},
   "outputs": [],
   "source": [
    "# Import necessary libraries\n",
    "import pandas as pd\n",
    "import numpy as np\n",
    "import matplotlib.pyplot as plt\n",
    "import seaborn as sns\n",
    "\n",
    "\n",
    "# Loading cleaned dataset\n",
    "df = pd.read_csv(\n",
    "    \"C:/Users/tuite/Desktop/Software Portfolio/python/Traffic_Accident_Analysis/data/final_cleaned_accident_data.csv\"\n",
    ")\n",
    "\n",
    "# Check dataset shape (rows, columns)\n",
    "print(\"Shape:\", df.shape)\n",
    "\n",
    "# View column names\n",
    "print(\"\\nColumns:\")\n",
    "print(df.columns.tolist())\n",
    "\n",
    "# Preview first 5 rows\n",
    "df.head()"
   ]
  },
  {
   "cell_type": "markdown",
   "metadata": {},
   "source": [
    "## Step 1(b): Data Types and Missing Values\n",
    "\n",
    "Before visualizing, I want to confirm the data types of each column and check how many non-null values each contains.\n"
   ]
  },
  {
   "cell_type": "code",
   "execution_count": null,
   "metadata": {},
   "outputs": [],
   "source": [
    "# Display datatypes and non-null counts\n",
    "df.info()\n"
   ]
  },
  {
   "cell_type": "markdown",
   "metadata": {},
   "source": [
    "## Step 1(c): Summary Statistics\n",
    "\n",
    "Next, I’ll genarate summary statistics to check the numerical columns to understand their ranges and averages, and to see if there are obvious outliers that might affect my analysis.\n"
   ]
  },
  {
   "cell_type": "code",
   "execution_count": null,
   "metadata": {},
   "outputs": [],
   "source": [
    "# Summary statistics for numerical columns\n",
    "df.describe().T\n"
   ]
  },
  {
   "cell_type": "markdown",
   "metadata": {},
   "source": [
    "## Step 1d: Categorical Summary\n",
    "\n",
    "In addition to numerical features, the dataset contains several categorical columns (e.g., `State`, `City`, `Weather_Condition`).  \n",
    "To better understand these, I’ll display these columns to see the most frequent values, like which state or weather condition occurs most often.\n"
   ]
  },
  {
   "cell_type": "code",
   "execution_count": null,
   "metadata": {},
   "outputs": [],
   "source": [
    "# Summary statistics for categorical columns\n",
    "df.describe(include=[\"object\", \"category\"]).T\n"
   ]
  },
  {
   "cell_type": "markdown",
   "metadata": {},
   "source": [
    "## Step 1 Summary\n",
    "\n",
    "The dataset was successfully loaded with just under 7 million rows and 40 columns.  \n",
    "- Numerical features show realistic ranges, but there are some extreme outliers (e.g. distances >400 miles, unrealistic temperatures, and very high wind speeds).  \n",
    "- Categorical features show California, Los Angeles County, and Houston as major accident hotspots.  \n",
    "- Most accidents occurred during the day and under fair weather conditions.  \n",
    "\n",
    "Now i will know what to expect for visualization, where Stats will be shown more effectively through charts and maps.\n"
   ]
  }
 ],
 "metadata": {
  "kernelspec": {
   "display_name": "accident_analysis",
   "language": "python",
   "name": "python3"
  },
  "language_info": {
   "codemirror_mode": {
    "name": "ipython",
    "version": 3
   },
   "file_extension": ".py",
   "mimetype": "text/x-python",
   "name": "python",
   "nbconvert_exporter": "python",
   "pygments_lexer": "ipython3",
   "version": "3.9.21"
  }
 },
 "nbformat": 4,
 "nbformat_minor": 2
}

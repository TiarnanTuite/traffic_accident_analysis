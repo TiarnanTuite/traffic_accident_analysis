{
 "cells": [
  {
   "cell_type": "markdown",
   "id": "249bb48b",
   "metadata": {},
   "source": [
    "# Machine Learning for Traffic Accident Analysis\n",
    "\n",
    "## Introduction\n",
    "In this notebook, I will build machine learning models to predict the **severity of traffic accidents** Based on other relative factors in the data using **scikit-learn (sklearn)**.  \n",
    "The steps include:\n",
    "- Preparing the dataset  \n",
    "- Splitting data into training and testing sets\n",
    "- Building baseline models (Logistic Regression, Decision Tree)  \n",
    "- Training more advanced models (Random Forest, Gradient Boosting)  \n",
    "- Evaluating results with classification metrics and confusion matrices  \n",
    "- Saving the best model for future use  \n",
    "\n",
    "With this we move from **exploring and visualizing** the dataset to **predicting accident severity**.\n"
   ]
  },
  {
   "cell_type": "code",
   "execution_count": 3,
   "id": "63a2fdf7",
   "metadata": {},
   "outputs": [
    {
     "name": "stdout",
     "output_type": "stream",
     "text": [
      "Shape: (6985228, 40)\n"
     ]
    },
    {
     "data": {
      "text/html": [
       "<div>\n",
       "<style scoped>\n",
       "    .dataframe tbody tr th:only-of-type {\n",
       "        vertical-align: middle;\n",
       "    }\n",
       "\n",
       "    .dataframe tbody tr th {\n",
       "        vertical-align: top;\n",
       "    }\n",
       "\n",
       "    .dataframe thead th {\n",
       "        text-align: right;\n",
       "    }\n",
       "</style>\n",
       "<table border=\"1\" class=\"dataframe\">\n",
       "  <thead>\n",
       "    <tr style=\"text-align: right;\">\n",
       "      <th></th>\n",
       "      <th>Source</th>\n",
       "      <th>Severity</th>\n",
       "      <th>Start_Time</th>\n",
       "      <th>Start_Lat</th>\n",
       "      <th>Start_Lng</th>\n",
       "      <th>Distance(mi)</th>\n",
       "      <th>Street</th>\n",
       "      <th>City</th>\n",
       "      <th>County</th>\n",
       "      <th>State</th>\n",
       "      <th>...</th>\n",
       "      <th>Roundabout</th>\n",
       "      <th>Station</th>\n",
       "      <th>Stop</th>\n",
       "      <th>Traffic_Calming</th>\n",
       "      <th>Traffic_Signal</th>\n",
       "      <th>Turning_Loop</th>\n",
       "      <th>Sunrise_Sunset</th>\n",
       "      <th>Civil_Twilight</th>\n",
       "      <th>Nautical_Twilight</th>\n",
       "      <th>Astronomical_Twilight</th>\n",
       "    </tr>\n",
       "  </thead>\n",
       "  <tbody>\n",
       "    <tr>\n",
       "      <th>0</th>\n",
       "      <td>Source2</td>\n",
       "      <td>3</td>\n",
       "      <td>2016-02-08 05:46:00</td>\n",
       "      <td>39.865147</td>\n",
       "      <td>-84.058723</td>\n",
       "      <td>0.01</td>\n",
       "      <td>I-70 E</td>\n",
       "      <td>Dayton</td>\n",
       "      <td>Montgomery</td>\n",
       "      <td>OH</td>\n",
       "      <td>...</td>\n",
       "      <td>False</td>\n",
       "      <td>False</td>\n",
       "      <td>False</td>\n",
       "      <td>False</td>\n",
       "      <td>False</td>\n",
       "      <td>False</td>\n",
       "      <td>Night</td>\n",
       "      <td>Night</td>\n",
       "      <td>Night</td>\n",
       "      <td>Night</td>\n",
       "    </tr>\n",
       "    <tr>\n",
       "      <th>1</th>\n",
       "      <td>Source2</td>\n",
       "      <td>2</td>\n",
       "      <td>2016-02-08 06:07:59</td>\n",
       "      <td>39.928059</td>\n",
       "      <td>-82.831184</td>\n",
       "      <td>0.01</td>\n",
       "      <td>Brice Rd</td>\n",
       "      <td>Reynoldsburg</td>\n",
       "      <td>Franklin</td>\n",
       "      <td>OH</td>\n",
       "      <td>...</td>\n",
       "      <td>False</td>\n",
       "      <td>False</td>\n",
       "      <td>False</td>\n",
       "      <td>False</td>\n",
       "      <td>False</td>\n",
       "      <td>False</td>\n",
       "      <td>Night</td>\n",
       "      <td>Night</td>\n",
       "      <td>Night</td>\n",
       "      <td>Day</td>\n",
       "    </tr>\n",
       "    <tr>\n",
       "      <th>2</th>\n",
       "      <td>Source2</td>\n",
       "      <td>2</td>\n",
       "      <td>2016-02-08 06:49:27</td>\n",
       "      <td>39.063148</td>\n",
       "      <td>-84.032608</td>\n",
       "      <td>0.01</td>\n",
       "      <td>State Route 32</td>\n",
       "      <td>Williamsburg</td>\n",
       "      <td>Clermont</td>\n",
       "      <td>OH</td>\n",
       "      <td>...</td>\n",
       "      <td>False</td>\n",
       "      <td>False</td>\n",
       "      <td>False</td>\n",
       "      <td>False</td>\n",
       "      <td>True</td>\n",
       "      <td>False</td>\n",
       "      <td>Night</td>\n",
       "      <td>Night</td>\n",
       "      <td>Day</td>\n",
       "      <td>Day</td>\n",
       "    </tr>\n",
       "    <tr>\n",
       "      <th>3</th>\n",
       "      <td>Source2</td>\n",
       "      <td>3</td>\n",
       "      <td>2016-02-08 07:23:34</td>\n",
       "      <td>39.747753</td>\n",
       "      <td>-84.205582</td>\n",
       "      <td>0.01</td>\n",
       "      <td>I-75 S</td>\n",
       "      <td>Dayton</td>\n",
       "      <td>Montgomery</td>\n",
       "      <td>OH</td>\n",
       "      <td>...</td>\n",
       "      <td>False</td>\n",
       "      <td>False</td>\n",
       "      <td>False</td>\n",
       "      <td>False</td>\n",
       "      <td>False</td>\n",
       "      <td>False</td>\n",
       "      <td>Night</td>\n",
       "      <td>Day</td>\n",
       "      <td>Day</td>\n",
       "      <td>Day</td>\n",
       "    </tr>\n",
       "    <tr>\n",
       "      <th>4</th>\n",
       "      <td>Source2</td>\n",
       "      <td>2</td>\n",
       "      <td>2016-02-08 07:39:07</td>\n",
       "      <td>39.627781</td>\n",
       "      <td>-84.188354</td>\n",
       "      <td>0.01</td>\n",
       "      <td>Miamisburg Centerville Rd</td>\n",
       "      <td>Dayton</td>\n",
       "      <td>Montgomery</td>\n",
       "      <td>OH</td>\n",
       "      <td>...</td>\n",
       "      <td>False</td>\n",
       "      <td>False</td>\n",
       "      <td>False</td>\n",
       "      <td>False</td>\n",
       "      <td>True</td>\n",
       "      <td>False</td>\n",
       "      <td>Day</td>\n",
       "      <td>Day</td>\n",
       "      <td>Day</td>\n",
       "      <td>Day</td>\n",
       "    </tr>\n",
       "  </tbody>\n",
       "</table>\n",
       "<p>5 rows × 40 columns</p>\n",
       "</div>"
      ],
      "text/plain": [
       "    Source  Severity           Start_Time  Start_Lat  Start_Lng  Distance(mi)  \\\n",
       "0  Source2         3  2016-02-08 05:46:00  39.865147 -84.058723          0.01   \n",
       "1  Source2         2  2016-02-08 06:07:59  39.928059 -82.831184          0.01   \n",
       "2  Source2         2  2016-02-08 06:49:27  39.063148 -84.032608          0.01   \n",
       "3  Source2         3  2016-02-08 07:23:34  39.747753 -84.205582          0.01   \n",
       "4  Source2         2  2016-02-08 07:39:07  39.627781 -84.188354          0.01   \n",
       "\n",
       "                      Street          City      County State  ... Roundabout  \\\n",
       "0                     I-70 E        Dayton  Montgomery    OH  ...      False   \n",
       "1                   Brice Rd  Reynoldsburg    Franklin    OH  ...      False   \n",
       "2             State Route 32  Williamsburg    Clermont    OH  ...      False   \n",
       "3                     I-75 S        Dayton  Montgomery    OH  ...      False   \n",
       "4  Miamisburg Centerville Rd        Dayton  Montgomery    OH  ...      False   \n",
       "\n",
       "  Station   Stop Traffic_Calming  Traffic_Signal  Turning_Loop  \\\n",
       "0   False  False           False           False         False   \n",
       "1   False  False           False           False         False   \n",
       "2   False  False           False            True         False   \n",
       "3   False  False           False           False         False   \n",
       "4   False  False           False            True         False   \n",
       "\n",
       "   Sunrise_Sunset  Civil_Twilight  Nautical_Twilight Astronomical_Twilight  \n",
       "0           Night           Night              Night                 Night  \n",
       "1           Night           Night              Night                   Day  \n",
       "2           Night           Night                Day                   Day  \n",
       "3           Night             Day                Day                   Day  \n",
       "4             Day             Day                Day                   Day  \n",
       "\n",
       "[5 rows x 40 columns]"
      ]
     },
     "execution_count": 3,
     "metadata": {},
     "output_type": "execute_result"
    }
   ],
   "source": [
    "# Import libraries\n",
    "import pandas as pd\n",
    "import numpy as np\n",
    "import matplotlib.pyplot as plt\n",
    "import seaborn as sns\n",
    "\n",
    "# Imports for machine learning\n",
    "from sklearn.model_selection import train_test_split\n",
    "from sklearn.preprocessing import LabelEncoder, StandardScaler\n",
    "from sklearn.linear_model import LogisticRegression\n",
    "from sklearn.tree import DecisionTreeClassifier\n",
    "from sklearn.ensemble import RandomForestClassifier\n",
    "from sklearn.metrics import classification_report, confusion_matrix\n",
    "import joblib\n",
    "\n",
    "# Loading cleaned dataset\n",
    "df = pd.read_csv(\"../data/final_cleaned_accident_data.csv\")\n",
    "\n",
    "# Confirm load\n",
    "print(\"Shape:\", df.shape)\n",
    "df.head()\n"
   ]
  },
  {
   "cell_type": "markdown",
   "id": "194734e6",
   "metadata": {},
   "source": [
    "## Data preperation\n",
    "\n",
    "### Steps to take:\n",
    "- Define the target variable (severity)\n",
    "- Assign variable x for the stats to predict and y for the stats used for the prediction\n",
    "- Select what features to use for prediction\n",
    "- Extract time based features frpom Start_Time\n",
    "- Encode catagorical variables as machine learning models only work with numbers\n",
    "- scale continuous numerical features so the model doesnt become biased"
   ]
  },
  {
   "cell_type": "code",
   "execution_count": 4,
   "id": "4f018800",
   "metadata": {},
   "outputs": [
    {
     "name": "stdout",
     "output_type": "stream",
     "text": [
      "Final size of features: (500000, 217)\n"
     ]
    }
   ],
   "source": [
    "# Use a sample of the dataset to avoid memory errors\n",
    "df_sample = df.sample(500_000, random_state=42)  # 500k rows instead of 7M\n",
    "\n",
    "y = df_sample[\"Severity\"]\n",
    "X = df_sample.drop([\"Severity\", \"Start_Time\", \"Street\", \"City\", \"Zipcode\"], axis=1)\n",
    "\n",
    "# Extract time-based features\n",
    "df_sample[\"Start_Time\"] = pd.to_datetime(df_sample[\"Start_Time\"])\n",
    "X[\"Hour\"] = df_sample[\"Start_Time\"].dt.hour\n",
    "X[\"DayOfWeek\"] = df_sample[\"Start_Time\"].dt.dayofweek\n",
    "X[\"Month\"] = df_sample[\"Start_Time\"].dt.month\n",
    "\n",
    "# Encode key categorical variables\n",
    "categorical_cols = [\"State\", \"Timezone\", \"Weather_Condition\", \n",
    "                    \"Wind_Direction\", \"Sunrise_Sunset\"]\n",
    "X = pd.get_dummies(X, columns=categorical_cols, drop_first=True)\n",
    "\n",
    "# Scale continuous features\n",
    "scaler = StandardScaler()\n",
    "num_cols_to_scale = [\n",
    "    \"Distance(mi)\", \"Temperature(F)\", \"Wind_Chill(F)\",\n",
    "    \"Humidity(%)\", \"Pressure(in)\", \"Visibility(mi)\",\n",
    "    \"Wind_Speed(mph)\", \"Precipitation(in)\"\n",
    "]\n",
    "\n",
    "X[num_cols_to_scale] = scaler.fit_transform(X[num_cols_to_scale])\n",
    "\n",
    "# confirm dataset size\n",
    "print(\"Final size of features:\", X.shape)\n"
   ]
  },
  {
   "cell_type": "markdown",
   "id": "8728ffbd",
   "metadata": {},
   "source": [
    "## Results\n",
    "\n",
    "The final feature set contains **500,000 rows** and **217 features**.  \n",
    "This includes time-based features we created such as (`Hour`, `DayOfWeek`, `Month`), encoded categorical variables (e.g. `State`, `Weather_Condition`), and scaled numerical variables.  \n",
    "This balanced dataset will be used to train and evaluate machine learning models in the next steps.\n"
   ]
  },
  {
   "cell_type": "markdown",
   "id": "32ea2b2e",
   "metadata": {},
   "source": [
    "## Train/Test Split\n",
    "- Split features (`X`) and target (`Y`) into random training and test sets\n",
    "- Using Random splits as we are not trying to predict future accidents just how severe an accident could be based on other conditions\n",
    "- typically 80/20 to ensure most of the data is trained but some left un-touched for testing"
   ]
  },
  {
   "cell_type": "code",
   "execution_count": 5,
   "id": "2a2bda29",
   "metadata": {},
   "outputs": [
    {
     "name": "stdout",
     "output_type": "stream",
     "text": [
      "Training set: (400000, 217) (400000,)\n",
      "Test set: (100000, 217) (100000,)\n"
     ]
    }
   ],
   "source": [
    "# 20% to test set\n",
    "X_train, X_test, y_train, y_test = train_test_split(\n",
    "    # using stratify so that the random split doesnt put more of one severity in the training set\n",
    "    X, y, test_size=0.2, random_state=42, stratify=y\n",
    ")\n",
    "\n",
    "print(\"Training set:\", X_train.shape, y_train.shape)\n",
    "print(\"Test set:\", X_test.shape, y_test.shape)\n"
   ]
  },
  {
   "cell_type": "markdown",
   "id": "19593b5e",
   "metadata": {},
   "source": [
    "## Verify correct split\n",
    "\n",
    "- Without using Stratified sampling, there can be inconsistencies in the sets (since taking a random sample and putting 80% in one and 20% in another)\n",
    "- I have added a bar chat below to confirm it is balanced"
   ]
  },
  {
   "cell_type": "code",
   "execution_count": 6,
   "id": "831c2107",
   "metadata": {},
   "outputs": [
    {
     "data": {
      "image/png": "[encoded data removed]",
      "text/plain": [
       "<Figure size 600x400 with 1 Axes>"
      ]
     },
     "metadata": {},
     "output_type": "display_data"
    }
   ],
   "source": [
    "train_counts = y_train.value_counts(normalize=True).sort_index()\n",
    "test_counts = y_test.value_counts(normalize=True).sort_index()\n",
    "\n",
    "fig, ax = plt.subplots(figsize=(6,4))\n",
    "ax.bar(train_counts.index - 0.2, train_counts, width=0.4, label=\"Train\")\n",
    "ax.bar(test_counts.index + 0.2, test_counts, width=0.4, label=\"Test\")\n",
    "\n",
    "ax.set_xticks([1,2,3,4])\n",
    "ax.set_xlabel(\"Severity\")\n",
    "ax.set_ylabel(\"Proportion\")\n",
    "ax.set_title(\"Train vs Test Sets\")\n",
    "ax.legend()\n",
    "plt.show()"
   ]
  },
  {
   "cell_type": "markdown",
   "id": "35e37e5e",
   "metadata": {},
   "source": [
    "## Baseline Model: Logistic Regression  \n",
    "\n",
    "To establish a baseline, we start with a **Logistic Regression** classifier.  \n",
    "This is a simple but effective algorithm for multi-class classification, and it helps set a reference point for model performance.  \n",
    "\n",
    "The model is trained on the **training set** (80% of the data) and then evaluated on the **test set** (20%).  \n",
    "\n",
    "Evaluation includes:  \n",
    "- **Classification report**: shows precision, recall, and F1-score for each severity level.  \n",
    "- **Confusion matrix**: visualizes where the model predicts correctly and where it confuses different severity levels.  \n",
    "\n",
    "This baseline performance will be compared against more advanced models later (e.g., Random Forest, Gradient Boosting).\n"
   ]
  },
  {
   "cell_type": "code",
   "execution_count": 7,
   "id": "4dcb5d37",
   "metadata": {},
   "outputs": [
    {
     "name": "stderr",
     "output_type": "stream",
     "text": [
      "c:\\Users\\tuite\\anaconda3\\envs\\accident_analysis\\lib\\site-packages\\sklearn\\linear_model\\_logistic.py:1247: FutureWarning: 'multi_class' was deprecated in version 1.5 and will be removed in 1.7. From then on, it will always use 'multinomial'. Leave it to its default value to avoid this warning.\n",
      "  warnings.warn(\n"
     ]
    },
    {
     "name": "stdout",
     "output_type": "stream",
     "text": [
      "              precision    recall  f1-score   support\n",
      "\n",
      "           1       0.00      0.00      0.00        15\n",
      "           2       0.77      1.00      0.87      1547\n",
      "           3       0.00      0.00      0.00       378\n",
      "           4       0.00      0.00      0.00        60\n",
      "\n",
      "    accuracy                           0.77      2000\n",
      "   macro avg       0.19      0.25      0.22      2000\n",
      "weighted avg       0.60      0.77      0.67      2000\n",
      "\n"
     ]
    },
    {
     "name": "stderr",
     "output_type": "stream",
     "text": [
      "c:\\Users\\tuite\\anaconda3\\envs\\accident_analysis\\lib\\site-packages\\sklearn\\metrics\\_classification.py:1565: UndefinedMetricWarning: Precision is ill-defined and being set to 0.0 in labels with no predicted samples. Use `zero_division` parameter to control this behavior.\n",
      "  _warn_prf(average, modifier, f\"{metric.capitalize()} is\", len(result))\n",
      "c:\\Users\\tuite\\anaconda3\\envs\\accident_analysis\\lib\\site-packages\\sklearn\\metrics\\_classification.py:1565: UndefinedMetricWarning: Precision is ill-defined and being set to 0.0 in labels with no predicted samples. Use `zero_division` parameter to control this behavior.\n",
      "  _warn_prf(average, modifier, f\"{metric.capitalize()} is\", len(result))\n",
      "c:\\Users\\tuite\\anaconda3\\envs\\accident_analysis\\lib\\site-packages\\sklearn\\metrics\\_classification.py:1565: UndefinedMetricWarning: Precision is ill-defined and being set to 0.0 in labels with no predicted samples. Use `zero_division` parameter to control this behavior.\n",
      "  _warn_prf(average, modifier, f\"{metric.capitalize()} is\", len(result))\n"
     ]
    }
   ],
   "source": [
    "\n",
    "# smaller sample + fewer features\n",
    "X_train_small = X_train[[\"Distance(mi)\", \"Temperature(F)\", \"Humidity(%)\", \"Visibility(mi)\"]].sample(10000, random_state=42)\n",
    "y_train_small = y_train.loc[X_train_small.index]\n",
    "\n",
    "X_test_small = X_test[[\"Distance(mi)\", \"Temperature(F)\", \"Humidity(%)\", \"Visibility(mi)\"]].sample(2000, random_state=42)\n",
    "y_test_small = y_test.loc[X_test_small.index]\n",
    "\n",
    "log_reg = LogisticRegression(max_iter=1000, solver=\"saga\", multi_class=\"multinomial\")\n",
    "log_reg.fit(X_train_small, y_train_small)\n",
    "\n",
    "y_pred = log_reg.predict(X_test_small)\n",
    "\n",
    "print(classification_report(y_test_small, y_pred))\n"
   ]
  },
  {
   "cell_type": "markdown",
   "id": "69e6dc52",
   "metadata": {},
   "source": [
    "## Results\n",
    "\n",
    "We first tested **Logistic Regression** as a baseline model.  \n",
    "- Accuracy was around **77%**, but this was misleading.  \n",
    "- The model predicted almost all accidents as **Severity 2**, since this is the majority class.  \n",
    "- As a result, it completely failed to identify **Severities 1, 3, and 4**.  \n",
    "\n",
    "This demonstrates the challenge of **class imbalance** in the dataset and shows why a more advanced model (such as **Random Forest**) is needed to better capture patterns across all severity levels.\n"
   ]
  },
  {
   "cell_type": "markdown",
   "id": "8693a101",
   "metadata": {},
   "source": [
    "## Random Forest Classifier\n",
    "\n",
    "Since Logistic Regression struggled with class imbalance, we will now train a **Random Forest Classifier**.  \n",
    "\n",
    "Random Forests are an ensemble method that combine multiple decision trees.  \n",
    "Advantages:  \n",
    "- Can handle large datasets with mixed numeric/categorical features.  \n",
    "- More robust to class imbalance compared to logistic regression.  \n",
    "- Provide feature importance scores, giving insights into what factors matter most.  \n"
   ]
  },
  {
   "cell_type": "code",
   "execution_count": 8,
   "id": "1bfa5df8",
   "metadata": {},
   "outputs": [
    {
     "name": "stdout",
     "output_type": "stream",
     "text": [
      "              precision    recall  f1-score   support\n",
      "\n",
      "           1       0.00      0.00      0.00        15\n",
      "           2       0.79      0.89      0.83      1547\n",
      "           3       0.30      0.19      0.23       378\n",
      "           4       0.00      0.00      0.00        60\n",
      "\n",
      "    accuracy                           0.72      2000\n",
      "   macro avg       0.27      0.27      0.27      2000\n",
      "weighted avg       0.66      0.72      0.69      2000\n",
      "\n",
      "\n",
      "Confusion Matrix:\n",
      " [[   0   12    3    0]\n",
      " [   6 1375  163    3]\n",
      " [   1  304   72    1]\n",
      " [   0   59    1    0]]\n"
     ]
    }
   ],
   "source": [
    "# Train Random Forest (smaller sample for performance if needed)\n",
    "rf = RandomForestClassifier(\n",
    "    n_estimators=100, \n",
    "    random_state=42,\n",
    "    n_jobs=-1\n",
    ")\n",
    "\n",
    "rf.fit(X_train_small, y_train_small)\n",
    "\n",
    "# Predictions\n",
    "y_pred_rf = rf.predict(X_test_small)\n",
    "\n",
    "# Evaluation\n",
    "print(classification_report(y_test_small, y_pred_rf))\n",
    "print(\"\\nConfusion Matrix:\\n\", confusion_matrix(y_test_small, y_pred_rf))\n"
   ]
  },
  {
   "cell_type": "markdown",
   "id": "90ac306a",
   "metadata": {},
   "source": [
    "## Results\n",
    "\n",
    "The Random Forest model performed better than Logistic Regression:\n",
    "- It correctly classified most **Severity 2 accidents** and some **Severity 3 accidents**.\n",
    "- It still struggles with the rare **Severity 1 and 4 accidents**, which is expected given the dataset imbalance.\n",
    "- Overall accuracy: ~72%, but macro F1-score (0.27) highlights imbalance across classes.\n",
    "\n",
    "This shows Random Forest is more robust for this dataset, though improvements such as class weighting or resampling could help capture minority classes better.\n",
    "\n",
    "I will add a heatmap for better visualization of miss-classifications etc.\n"
   ]
  },
  {
   "cell_type": "code",
   "execution_count": 9,
   "id": "75462ebb",
   "metadata": {},
   "outputs": [
    {
     "data": {
      "image/png": "[encoded data removed]",
      "text/plain": [
       "<Figure size 600x500 with 2 Axes>"
      ]
     },
     "metadata": {},
     "output_type": "display_data"
    }
   ],
   "source": [
    "# Compute confusion matrix\n",
    "cm = confusion_matrix(y_test_small, y_pred_rf)\n",
    "\n",
    "# Plot heatmap\n",
    "plt.figure(figsize=(6, 5))\n",
    "sns.heatmap(cm, annot=True, fmt=\"d\", cmap=\"Reds\", xticklabels=[1,2,3,4], yticklabels=[1,2,3,4])\n",
    "plt.xlabel(\"Predicted\")\n",
    "plt.ylabel(\"Actual\")\n",
    "plt.title(\"Confusion Matrix - Random Forest\")\n",
    "plt.show()\n"
   ]
  },
  {
   "cell_type": "markdown",
   "id": "c5848f88",
   "metadata": {},
   "source": [
    "## Gradient Boosting \n",
    "\n",
    "After testing Logistic Regression and Random Forest, I will now train a **Gradient Boosting Classifier**.  \n",
    "Gradient Boosting builds trees(estimators) sequentially, where each new tree attempts to correct the errors of the previous ones.  \n",
    "This usually gives stronger predictive performance compared to standalone trees or logistic regression.  \n",
    "\n",
    "I’ll train the model on the sampled dataset (`X_train_small`) to avoid memory issues, then evaluate it on the test set.  \n",
    "The results will be compared against the previous models.\n"
   ]
  },
  {
   "cell_type": "code",
   "execution_count": 12,
   "id": "838fffe5",
   "metadata": {},
   "outputs": [
    {
     "name": "stdout",
     "output_type": "stream",
     "text": [
      "Classification Report (Gradient Boosting):\n",
      "              precision    recall  f1-score   support\n",
      "\n",
      "           1       0.00      0.00      0.00        15\n",
      "           2       0.78      0.99      0.87      1547\n",
      "           3       0.33      0.02      0.04       378\n",
      "           4       0.00      0.00      0.00        60\n",
      "\n",
      "    accuracy                           0.77      2000\n",
      "   macro avg       0.28      0.25      0.23      2000\n",
      "weighted avg       0.66      0.77      0.68      2000\n",
      "\n"
     ]
    },
    {
     "data": {
      "image/png": "[encoded data removed]",
      "text/plain": [
       "<Figure size 600x400 with 2 Axes>"
      ]
     },
     "metadata": {},
     "output_type": "display_data"
    }
   ],
   "source": [
    "from sklearn.ensemble import GradientBoostingClassifier\n",
    "\n",
    "# Train Gradient Boosting\n",
    "gb_model = GradientBoostingClassifier(n_estimators=200, learning_rate=0.1, max_depth=3, random_state=42)\n",
    "gb_model.fit(X_train_small, y_train_small)\n",
    "\n",
    "# Predictions\n",
    "y_pred_gb = gb_model.predict(X_test_small)\n",
    "\n",
    "# Evaluation\n",
    "print(\"Classification Report (Gradient Boosting):\")\n",
    "print(classification_report(y_test_small, y_pred_gb))\n",
    "\n",
    "# Confusion Matrix\n",
    "cm = confusion_matrix(y_test_small, y_pred_gb)\n",
    "\n",
    "# heatmap for better visualization\n",
    "plt.figure(figsize=(6,4))\n",
    "sns.heatmap(cm, annot=True, fmt=\"d\", cmap=\"Reds\", xticklabels=[1,2,3,4], yticklabels=[1,2,3,4])\n",
    "plt.xlabel(\"Predicted\")\n",
    "plt.ylabel(\"Actual\")\n",
    "plt.title(\"Confusion Matrix - Gradient Boosting\")\n",
    "plt.show()\n"
   ]
  },
  {
   "cell_type": "markdown",
   "id": "5805c74a",
   "metadata": {},
   "source": [
    "### Gradient Boosting Results  \n",
    "\n",
    "The Gradient Boosting model achieved ~77% overall accuracy.  \n",
    "However, once again the classification report shows it is heavily biased toward predicting **severity 2**, with very poor performance on rarer classes (1, 3, and 4).  \n",
    "\n",
    "This confirms the dataset’s **class imbalance** problem: since most accidents are severity 2, the model learns to predict 2 almost every time.  \n",
    "\n",
    "Next steps will involve addressing imbalance (e.g., class weights or resampling) or testing other boosting algorithms like XGBoost or LightGBM.\n"
   ]
  },
  {
   "cell_type": "markdown",
   "id": "4564859f",
   "metadata": {},
   "source": [
    "## Handling Class Imbalance with Class Weights  \n",
    "\n",
    "The dataset is heavily imbalanced, with most accidents labeled as severity 2.  \n",
    "As a result, previous models (Logistic Regression, Random Forest, Gradient Boosting) focused almost entirely on predicting severity 2, ignoring rarer classes (1, 3, 4).  \n",
    "\n",
    "To address this, I will apply **class weights** to the Gradient Boosting model.  \n",
    "This tells the algorithm to treat misclassifications of rare classes (like severity 3 and 4) as more important, encouraging the model to learn their patterns.  \n",
    "\n",
    "If successful, this should improve recall and F1-scores for the minority classes, even if overall accuracy drops slightly.\n"
   ]
  },
  {
   "cell_type": "code",
   "execution_count": 13,
   "id": "389ef905",
   "metadata": {},
   "outputs": [
    {
     "name": "stdout",
     "output_type": "stream",
     "text": [
      "Computed class weights: {1: 22.93577981651376, 2: 0.32266391326794014, 3: 1.3326226012793176, 4: 9.363295880149813}\n",
      "Classification Report (Gradient Boosting with Class Weights):\n",
      "              precision    recall  f1-score   support\n",
      "\n",
      "           1       0.03      0.60      0.05        15\n",
      "           2       0.84      0.28      0.42      1547\n",
      "           3       0.30      0.53      0.38       378\n",
      "           4       0.07      0.53      0.12        60\n",
      "\n",
      "    accuracy                           0.34      2000\n",
      "   macro avg       0.31      0.49      0.24      2000\n",
      "weighted avg       0.71      0.34      0.40      2000\n",
      "\n"
     ]
    },
    {
     "data": {
      "image/png": "[encoded data removed]",
      "text/plain": [
       "<Figure size 600x400 with 2 Axes>"
      ]
     },
     "metadata": {},
     "output_type": "display_data"
    }
   ],
   "source": [
    "from sklearn.utils.class_weight import compute_class_weight\n",
    "\n",
    "# Compute balanced class weights automatically\n",
    "classes = np.unique(y_train_small)\n",
    "class_weights = compute_class_weight(class_weight=\"balanced\", classes=classes, y=y_train_small)\n",
    "class_weights_dict = dict(zip(classes, class_weights))\n",
    "\n",
    "print(\"Computed class weights:\", class_weights_dict)\n",
    "\n",
    "# Train Gradient Boosting with sample weights\n",
    "gb_model_weighted = GradientBoostingClassifier(\n",
    "    n_estimators=200,\n",
    "    learning_rate=0.1,\n",
    "    max_depth=3,\n",
    "    random_state=42\n",
    ")\n",
    "\n",
    "# Apply class weights when fitting\n",
    "sample_weights = y_train_small.map(class_weights_dict)\n",
    "gb_model_weighted.fit(X_train_small, y_train_small, sample_weight=sample_weights)\n",
    "\n",
    "# Predictions\n",
    "y_pred_gb_weighted = gb_model_weighted.predict(X_test_small)\n",
    "\n",
    "# Evaluation\n",
    "print(\"Classification Report (Gradient Boosting with Class Weights):\")\n",
    "print(classification_report(y_test_small, y_pred_gb_weighted))\n",
    "\n",
    "# Confusion Matrix\n",
    "cm = confusion_matrix(y_test_small, y_pred_gb_weighted)\n",
    "\n",
    "plt.figure(figsize=(6,4))\n",
    "sns.heatmap(cm, annot=True, fmt=\"d\", cmap=\"Reds\",\n",
    "            xticklabels=[1,2,3,4], yticklabels=[1,2,3,4])\n",
    "plt.xlabel(\"Predicted\")\n",
    "plt.ylabel(\"Actual\")\n",
    "plt.title(\"Confusion Matrix - Gradient Boosting (with Class Weights)\")\n",
    "plt.show()\n"
   ]
  },
  {
   "cell_type": "markdown",
   "id": "e7d80ca6",
   "metadata": {},
   "source": [
    "## Results:  Gradient Boosting with Class Weights\n",
    "\n",
    "Introducing **class weights** allowed the model to pay more attention to underrepresented severity levels:\n",
    "\n",
    "- Severity **1**: recall improved from 0.00 → 0.60  \n",
    "- Severity **3**: recall improved from 0.19 → 0.53  \n",
    "- Severity **4**: recall improved from 0.00 → 0.53  \n",
    "\n",
    "**Overall:**\n",
    "- accuracy dropped to ~34%, compared to ~72–77% before.  \n",
    "- The model no longer defaults to predicting Severity 2 but struggles with precision.  \n",
    "\n",
    "**Takeaway:** Accuracy alone is misleading in imbalanced datasets. While the weighted model performs worse in terms of accuracy, it is more balanced in recognizing multiple severity levels, which is often more valuable in real-world use cases.\n"
   ]
  }
 ],
 "metadata": {
  "kernelspec": {
   "display_name": "accident_analysis",
   "language": "python",
   "name": "python3"
  },
  "language_info": {
   "codemirror_mode": {
    "name": "ipython",
    "version": 3
   },
   "file_extension": ".py",
   "mimetype": "text/x-python",
   "name": "python",
   "nbconvert_exporter": "python",
   "pygments_lexer": "ipython3",
   "version": "3.9.21"
  }
 },
 "nbformat": 4,
 "nbformat_minor": 5
}

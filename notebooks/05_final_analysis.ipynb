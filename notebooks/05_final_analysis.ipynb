{
 "cells": [
  {
   "cell_type": "markdown",
   "id": "0d12741f",
   "metadata": {},
   "source": [
    "# 05 Final Analysis\n",
    "\n",
    "## Introduction\n",
    "\n",
    "This notebook serves as the final stage of the Traffic Accident Analysis project.  \n",
    "Here, I will:\n",
    "- Load the saved **XGBoost model** from Notebook 04  \n",
    "- Review its performance and summarize key findings  \n",
    "- Demonstrate how it can be used to predict accident severity based on given conditions  \n",
    "\n",
    "The goal of this notebook is to bring everything together- data insights, machine learning results, and practical usage to conclude the project\n",
    "\n"
   ]
  },
  {
   "cell_type": "code",
   "execution_count": null,
   "id": "f2804209",
   "metadata": {},
   "outputs": [
    {
     "name": "stdout",
     "output_type": "stream",
     "text": [
      "Final XGBoost weighted model loaded successfully.\n",
      "dataset successfully loaded.\n",
      "Dataset shape: (6985228, 40)\n"
     ]
    }
   ],
   "source": [
    "# imports needed\n",
    "import pandas as pd\n",
    "import matplotlib.pyplot as plt\n",
    "import joblib\n",
    "\n",
    "model_path = \"../models/final_xgb_model.pkl\"\n",
    "xgb_model = joblib.load(model_path)\n",
    "print(\"Final XGBoost weighted model loaded successfully.\")\n",
    "\n",
    "\n",
    "# Load the cleaned dataset\n",
    "df = pd.read_csv(\"../data/final_cleaned_accident_data.csv\")\n",
    "\n",
    "print(\"dataset successfully loaded.\")\n",
    "print(\"Dataset shape:\", df.shape)\n",
    "\n"
   ]
  },
  {
   "cell_type": "markdown",
   "id": "9521f3df",
   "metadata": {},
   "source": [
    "## Model Performance Summary\n",
    "\n",
    "After training multiple machine learning models in the previous notebook, I’ve gathered their overall accuracies and general performance trends to compare how well each algorithm handled the prediction of accident severity.\n",
    "\n",
    "Each model was trained on the same data sample for consistency, with some variations in handling class imbalance (using class weights).\n",
    "\n",
    "Below is a comparison summary of their performance.\n"
   ]
  },
  {
   "cell_type": "code",
   "execution_count": 6,
   "id": "60ddc9d6",
   "metadata": {},
   "outputs": [
    {
     "data": {
      "text/html": [
       "<div>\n",
       "<style scoped>\n",
       "    .dataframe tbody tr th:only-of-type {\n",
       "        vertical-align: middle;\n",
       "    }\n",
       "\n",
       "    .dataframe tbody tr th {\n",
       "        vertical-align: top;\n",
       "    }\n",
       "\n",
       "    .dataframe thead th {\n",
       "        text-align: right;\n",
       "    }\n",
       "</style>\n",
       "<table border=\"1\" class=\"dataframe\">\n",
       "  <thead>\n",
       "    <tr style=\"text-align: right;\">\n",
       "      <th></th>\n",
       "      <th>Model</th>\n",
       "      <th>Accuracy</th>\n",
       "      <th>Notes</th>\n",
       "    </tr>\n",
       "  </thead>\n",
       "  <tbody>\n",
       "    <tr>\n",
       "      <th>0</th>\n",
       "      <td>Logistic Regression</td>\n",
       "      <td>0.77</td>\n",
       "      <td>High accuracy but biased toward Severity 2</td>\n",
       "    </tr>\n",
       "    <tr>\n",
       "      <th>1</th>\n",
       "      <td>Random Forest</td>\n",
       "      <td>0.72</td>\n",
       "      <td>Better recall but struggled on minority classes</td>\n",
       "    </tr>\n",
       "    <tr>\n",
       "      <th>2</th>\n",
       "      <td>Gradient Boosting</td>\n",
       "      <td>0.77</td>\n",
       "      <td>Strong base learner with good overall balance</td>\n",
       "    </tr>\n",
       "    <tr>\n",
       "      <th>3</th>\n",
       "      <td>Gradient Boosting (Weighted)</td>\n",
       "      <td>0.34</td>\n",
       "      <td>Handled rare classes better but reduced accuracy</td>\n",
       "    </tr>\n",
       "    <tr>\n",
       "      <th>4</th>\n",
       "      <td>XGBoost (Weighted)</td>\n",
       "      <td>0.38</td>\n",
       "      <td>Most balanced overall: improved fairnesss</td>\n",
       "    </tr>\n",
       "  </tbody>\n",
       "</table>\n",
       "</div>"
      ],
      "text/plain": [
       "                          Model  Accuracy  \\\n",
       "0           Logistic Regression      0.77   \n",
       "1                 Random Forest      0.72   \n",
       "2             Gradient Boosting      0.77   \n",
       "3  Gradient Boosting (Weighted)      0.34   \n",
       "4            XGBoost (Weighted)      0.38   \n",
       "\n",
       "                                              Notes  \n",
       "0        High accuracy but biased toward Severity 2  \n",
       "1   Better recall but struggled on minority classes  \n",
       "2     Strong base learner with good overall balance  \n",
       "3  Handled rare classes better but reduced accuracy  \n",
       "4         Most balanced overall: improved fairnesss  "
      ]
     },
     "metadata": {},
     "output_type": "display_data"
    },
    {
     "data": {
      "image/png": "[encoded data removed]",
      "text/plain": [
       "<Figure size 800x500 with 1 Axes>"
      ]
     },
     "metadata": {},
     "output_type": "display_data"
    }
   ],
   "source": [
    "\n",
    "# Model results summary (based on previous notebook findings)\n",
    "model_results = pd.DataFrame({\n",
    "    \"Model\": [\n",
    "        \"Logistic Regression\",\n",
    "        \"Random Forest\",\n",
    "        \"Gradient Boosting\",\n",
    "        \"Gradient Boosting (Weighted)\",\n",
    "        \"XGBoost (Weighted)\"\n",
    "    ],\n",
    "    \"Accuracy\": [0.77, 0.72, 0.77, 0.34, 0.38],\n",
    "    \"Notes\": [\n",
    "        \"High accuracy but biased toward Severity 2\",\n",
    "        \"Better recall but struggled on minority classes\",\n",
    "        \"Strong base learner with good overall balance\",\n",
    "        \"Handled rare classes better but reduced accuracy\",\n",
    "        \"Most balanced overall: improved fairnesss\"\n",
    "    ]\n",
    "})\n",
    "\n",
    "# Display table\n",
    "display(model_results)\n",
    "\n",
    "# Bar chart visualization\n",
    "plt.figure(figsize=(8,5))\n",
    "plt.barh(model_results[\"Model\"], model_results[\"Accuracy\"], color=\"steelblue\")\n",
    "plt.xlabel(\"Accuracy\")\n",
    "plt.title(\"Model Accuracy Comparison\")\n",
    "plt.xlim(0, 1)\n",
    "plt.show()\n",
    "\n"
   ]
  },
  {
   "cell_type": "markdown",
   "id": "0fbad9f2",
   "metadata": {},
   "source": [
    "## Feature Importance \n",
    "\n",
    "Accuracy alone isnt everything.  \n",
    "To understand why the XGBoost model predicts accident severity a certain way, we look at feature importance to see which factors had the greatest impact on its decisions.\n",
    "\n",
    "This helps highlight which environmental and situational variables contribute most to accident severity, making the results useful for real-world safety insights.\n"
   ]
  },
  {
   "cell_type": "code",
   "execution_count": 7,
   "id": "82fabdca",
   "metadata": {},
   "outputs": [
    {
     "data": {
      "text/plain": [
       "<Figure size 1000x600 with 0 Axes>"
      ]
     },
     "metadata": {},
     "output_type": "display_data"
    },
    {
     "data": {
      "image/png": "[encoded data removed]",
      "text/plain": [
       "<Figure size 640x480 with 1 Axes>"
      ]
     },
     "metadata": {},
     "output_type": "display_data"
    }
   ],
   "source": [
    "from xgboost import plot_importance\n",
    "\n",
    "# Plot most important features from the trained weighted XGBoost model\n",
    "plt.figure(figsize=(10, 6))\n",
    "plot_importance(\n",
    "    xgb_model,\n",
    "    max_num_features=10,\n",
    "    importance_type=\"weight\",\n",
    "    title=\"Top Feature Importances - XGBoost (Weighted)\",\n",
    "    color='steelblue'\n",
    ")\n",
    "plt.show()\n"
   ]
  },
  {
   "cell_type": "markdown",
   "id": "4e2d95de",
   "metadata": {},
   "source": [
    "## Feature Importance Summary\n",
    "\n",
    "The feature importance plot reveals that **Visibility**, **Distance**, **Humidity**, and **Temperature** are the most influential factors in predicting accident severity.\n",
    "\n",
    "Despite the dataset containing hundreds of features, XGBoost identified these four as key predictors — suggesting that **environmental conditions and driving distance** have the strongest impact on the likelihood of severe accidents.\n",
    "\n",
    "This demonstrates the model’s ability to focus on the most meaningful variables while ignoring less relevant data, improving interpretability and reliability.\n"
   ]
  },
  {
   "cell_type": "markdown",
   "id": "94ddb477",
   "metadata": {},
   "source": [
    "## Predicting Accident Severity from Sample Conditions\n",
    "\n",
    "Now that the final **XGBoost Weighted Model** has been trained and saved, we can use it to make real-world predictions.  \n",
    "This step demonstrates how the model will function within a future **interactive web app**, where users can input driving and weather conditions to receive a predicted accident severity level.\n",
    "\n",
    "For consistency, the dataset is reconstructed using the same preprocessing as in model training — including feature engineering, categorical encoding, and column alignment.  \n",
    "This guarantees that the model receives correctly formatted data and prevents any feature mismatch errors.\n"
   ]
  },
  {
   "cell_type": "code",
   "execution_count": 14,
   "id": "4f867377",
   "metadata": {},
   "outputs": [
    {
     "name": "stdout",
     "output_type": "stream",
     "text": [
      "Sample input features:\n"
     ]
    },
    {
     "data": {
      "text/html": [
       "<div>\n",
       "<style scoped>\n",
       "    .dataframe tbody tr th:only-of-type {\n",
       "        vertical-align: middle;\n",
       "    }\n",
       "\n",
       "    .dataframe tbody tr th {\n",
       "        vertical-align: top;\n",
       "    }\n",
       "\n",
       "    .dataframe thead th {\n",
       "        text-align: right;\n",
       "    }\n",
       "</style>\n",
       "<table border=\"1\" class=\"dataframe\">\n",
       "  <thead>\n",
       "    <tr style=\"text-align: right;\">\n",
       "      <th></th>\n",
       "      <th>Distance(mi)</th>\n",
       "      <th>Temperature(F)</th>\n",
       "      <th>Humidity(%)</th>\n",
       "      <th>Visibility(mi)</th>\n",
       "    </tr>\n",
       "  </thead>\n",
       "  <tbody>\n",
       "    <tr>\n",
       "      <th>3448132</th>\n",
       "      <td>0.036</td>\n",
       "      <td>33.4</td>\n",
       "      <td>48.0</td>\n",
       "      <td>10.0</td>\n",
       "    </tr>\n",
       "  </tbody>\n",
       "</table>\n",
       "</div>"
      ],
      "text/plain": [
       "         Distance(mi)  Temperature(F)  Humidity(%)  Visibility(mi)\n",
       "3448132         0.036            33.4         48.0            10.0"
      ]
     },
     "metadata": {},
     "output_type": "display_data"
    },
    {
     "name": "stdout",
     "output_type": "stream",
     "text": [
      "\n",
      "Predicted Accident Severity: 1 (1 = Least severe → 4 = Most severe)\n"
     ]
    }
   ],
   "source": [
    "\n",
    "# Retrieve the feature names from the trained XGBoost model\n",
    "training_columns = xgb_model.get_booster().feature_names\n",
    "\n",
    "# Reconstruct the dataset to match the original training structure\n",
    "df[\"Start_Time\"] = pd.to_datetime(df[\"Start_Time\"])\n",
    "df[\"Hour\"] = df[\"Start_Time\"].dt.hour\n",
    "df[\"DayOfWeek\"] = df[\"Start_Time\"].dt.dayofweek\n",
    "df[\"Month\"] = df[\"Start_Time\"].dt.month\n",
    "\n",
    "# Select only the features used during model training\n",
    "keep_cols = [\n",
    "    \"Distance(mi)\", \"Temperature(F)\", \"Wind_Chill(F)\", \"Humidity(%)\", \"Pressure(in)\",\n",
    "    \"Visibility(mi)\", \"Wind_Speed(mph)\", \"Precipitation(in)\",\n",
    "    \"State\", \"Timezone\", \"Weather_Condition\", \"Wind_Direction\", \"Sunrise_Sunset\",\n",
    "    \"Hour\", \"DayOfWeek\", \"Month\"\n",
    "]\n",
    "X = df[keep_cols]\n",
    "\n",
    "# Encode categorical features using one-hot encoding (consistent with training)\n",
    "categorical_cols = [\"State\", \"Timezone\", \"Weather_Condition\", \"Wind_Direction\", \"Sunrise_Sunset\"]\n",
    "X = pd.get_dummies(X, columns=categorical_cols, drop_first=True)\n",
    "\n",
    "# Align dataset columns with model’s expected features (add missing / drop extras)\n",
    "for col in training_columns:\n",
    "    if col not in X.columns:\n",
    "        X[col] = 0\n",
    "X = X[training_columns]\n",
    "\n",
    "# Randomly select a single record for testing\n",
    "sample_row = X.sample(1, random_state=42)\n",
    "\n",
    "# Predict accident severity using the final trained model\n",
    "predicted_severity = xgb_model.predict(sample_row)[0]\n",
    "\n",
    "# Display the input sample and prediction\n",
    "print(\"Sample input features:\")\n",
    "display(sample_row.head(1))\n",
    "print(f\"\\nPredicted Accident Severity: {int(predicted_severity)} (1 = Least severe → 4 = Most severe)\")\n"
   ]
  },
  {
   "cell_type": "markdown",
   "id": "3750b0f3",
   "metadata": {},
   "source": [
    "## Results\n",
    "\n",
    "The model successfully predicts an accident severity level for a random or user-defined sample, confirming that it can process new data in real time.  \n",
    "By maintaining the same preprocessing and feature structure as during training, the model’s predictions remain consistent.\n",
    "\n",
    "This step effectively demonstrates how the trained model could be deployed in a web application, providing instant feedback on accident severity risk under given environmental and situational conditions.  "
   ]
  },
  {
   "cell_type": "markdown",
   "id": "7680b3dc",
   "metadata": {},
   "source": [
    "## Conclusion\n",
    "\n",
    "This notebook concludes the **Traffic Accident Analysis and Prediction** project, demonstrating the full end-to-end data science workflow:\n",
    "- Data cleaning and feature engineering  \n",
    "- Exploration and visualization  \n",
    "- Model training, tuning, and evaluation using several algorithms  \n",
    "- Final model deployment simulation with real-time predictions  \n",
    "\n",
    "The final **XGBoost model with class weights** achieved the best balance between overall accuracy and fairness across severity levels, making it the ideal candidate for deployment.  \n",
    "\n",
    "Earlier analysis using interactive **heatmaps** revealed strong geographic patterns in accident frequency — particularly concentrated along the U.S. East Coast.  \n",
    "These visual insights will be integrated into the upcoming web application, allowing users to explore both **map-based trends** and **predicted severity outcomes** in one interface.  \n",
    "\n",
    "Now the goal is to transition from research and analysis to **real-world implementation**.\n"
   ]
  }
 ],
 "metadata": {
  "kernelspec": {
   "display_name": "accident_analysis",
   "language": "python",
   "name": "python3"
  },
  "language_info": {
   "codemirror_mode": {
    "name": "ipython",
    "version": 3
   },
   "file_extension": ".py",
   "mimetype": "text/x-python",
   "name": "python",
   "nbconvert_exporter": "python",
   "pygments_lexer": "ipython3",
   "version": "3.9.21"
  }
 },
 "nbformat": 4,
 "nbformat_minor": 5
}
